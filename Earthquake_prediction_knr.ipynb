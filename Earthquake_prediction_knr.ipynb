{
 "cells": [
  {
   "cell_type": "code",
   "execution_count": 14,
   "id": "cc5365dd",
   "metadata": {},
   "outputs": [],
   "source": [
    "import pandas as pd\n",
    "from sklearn.neighbors import KNeighborsRegressor\n",
    "from sklearn.model_selection import train_test_split\n",
    "from datetime import date as date_n\n",
    "from sklearn.metrics import mean_squared_error,r2_score,mean_absolute_error"
   ]
  },
  {
   "cell_type": "code",
   "execution_count": 15,
   "id": "382d7598",
   "metadata": {},
   "outputs": [],
   "source": [
    "a=pd.read_csv('silver.csv')\n",
    "a['date']=(pd.to_datetime(a['date'], format='%Y-%m-%d')-pd.to_datetime('1973-01-01')).dt.days"
   ]
  },
  {
   "cell_type": "code",
   "execution_count": 16,
   "id": "ccb7868e",
   "metadata": {},
   "outputs": [],
   "source": [
    "X = a.iloc[:,[0,1,2,6]].values\n",
    "Y = a.iloc[:,[3]].values\n",
    "X_train, X_test, Y_train, Y_test = train_test_split(X, Y, test_size=0.2, random_state=0)"
   ]
  },
  {
   "cell_type": "code",
   "execution_count": 17,
   "id": "0b00ff5c",
   "metadata": {},
   "outputs": [
    {
     "data": {
      "text/plain": [
       "KNeighborsRegressor(n_neighbors=2)"
      ]
     },
     "execution_count": 17,
     "metadata": {},
     "output_type": "execute_result"
    }
   ],
   "source": [
    "neigh = KNeighborsRegressor(n_neighbors=2)\n",
    "neigh.fit(X_test, Y_test)"
   ]
  },
  {
   "cell_type": "code",
   "execution_count": 18,
   "id": "c93ab8bb",
   "metadata": {},
   "outputs": [
    {
     "name": "stdout",
     "output_type": "stream",
     "text": [
      "[[2.14 ]\n",
      " [3.255]\n",
      " [1.65 ]\n",
      " ...\n",
      " [1.7  ]\n",
      " [1.965]\n",
      " [0.62 ]]\n"
     ]
    }
   ],
   "source": [
    "y_1 = neigh.predict(X_test)\n",
    "print(y_1)  \n",
    "y_1 = pd.DataFrame(y_1)\n",
    "y_1.to_csv('KNR-EQPD.csv')"
   ]
  },
  {
   "cell_type": "code",
   "execution_count": 19,
   "id": "56783885",
   "metadata": {},
   "outputs": [
    {
     "name": "stdout",
     "output_type": "stream",
     "text": [
      "MSE:  0.16454262595572297  \n",
      "R2:  0.9039038880613032  \n",
      "MAE:  0.28072855394063884\n"
     ]
    }
   ],
   "source": [
    "print(\"MSE: \",mean_squared_error(Y_test,y_1),\" \\nR2: \",r2_score(Y_test,y_1),\" \\nMAE: \",mean_absolute_error(Y_test,y_1))"
   ]
  }
 ],
 "metadata": {
  "kernelspec": {
   "display_name": "Python 3 (ipykernel)",
   "language": "python",
   "name": "python3"
  },
  "language_info": {
   "codemirror_mode": {
    "name": "ipython",
    "version": 3
   },
   "file_extension": ".py",
   "mimetype": "text/x-python",
   "name": "python",
   "nbconvert_exporter": "python",
   "pygments_lexer": "ipython3",
   "version": "3.9.13"
  }
 },
 "nbformat": 4,
 "nbformat_minor": 5
}
