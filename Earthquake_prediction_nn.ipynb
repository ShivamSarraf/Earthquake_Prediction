{
 "cells": [
  {
   "cell_type": "code",
   "execution_count": 1,
   "id": "f26e96db",
   "metadata": {},
   "outputs": [],
   "source": [
    "import math\n",
    "import pandas as pd\n",
    "import tensorflow as tf\n",
    "from tensorflow.keras import Model\n",
    "from tensorflow.keras import Sequential\n",
    "from tensorflow.keras.optimizers import Adam\n",
    "from sklearn.preprocessing import StandardScaler\n",
    "from tensorflow.keras.layers import Dense, Dropout\n",
    "from sklearn.model_selection import train_test_split\n",
    "from tensorflow.keras.losses import MeanSquaredLogarithmicError\n",
    "from sklearn.metrics import mean_squared_error,r2_score,mean_absolute_error"
   ]
  },
  {
   "cell_type": "code",
   "execution_count": 2,
   "id": "21652373",
   "metadata": {},
   "outputs": [],
   "source": [
    "a=pd.read_csv('silver.csv')\n",
    "a['date']=(pd.to_datetime(a['date'], format='%Y-%m-%d')-pd.to_datetime('1973-01-01')).dt.days\n",
    "X = a.iloc[:,[0,1,2,6]].values\n",
    "Y = a.iloc[:,[3]].values\n",
    "X_train, X_test, Y_train, Y_test = train_test_split(X, Y, test_size=0.2, random_state=0)"
   ]
  },
  {
   "cell_type": "code",
   "execution_count": 3,
   "id": "c285bdd2",
   "metadata": {},
   "outputs": [],
   "source": [
    "def scale_datasets(X_train, X_test):\n",
    "  standard_scaler = StandardScaler()\n",
    "  X_train_scaled = pd.DataFrame(standard_scaler.fit_transform(X_train))\n",
    "  X_test_scaled = pd.DataFrame(standard_scaler.transform(X_test))\n",
    "  return X_train_scaled, X_test_scaled\n",
    "X_train_scaled, X_test_scaled = scale_datasets(X_train, X_test)"
   ]
  },
  {
   "cell_type": "code",
   "execution_count": 4,
   "id": "9b6a6aec",
   "metadata": {},
   "outputs": [],
   "source": [
    "hidden_units1 = 160\n",
    "hidden_units2 = 480\n",
    "hidden_units3 = 256\n",
    "learning_rate = 0.01\n",
    "def build_model_using_sequential():\n",
    "  model = Sequential([Dense(hidden_units1, kernel_initializer='normal', activation='relu'),Dropout(0.2),\n",
    "    Dense(hidden_units2, kernel_initializer='normal', activation='relu'),Dropout(0.2),\n",
    "    Dense(hidden_units3, kernel_initializer='normal', activation='relu'),\n",
    "    Dense(1, kernel_initializer='normal', activation='linear')])\n",
    "  return model\n",
    "model = build_model_using_sequential()"
   ]
  },
  {
   "cell_type": "code",
   "execution_count": 5,
   "id": "719625fa",
   "metadata": {},
   "outputs": [
    {
     "name": "stdout",
     "output_type": "stream",
     "text": [
      "38558/38558 [==============================] - 264s 7ms/step - loss: 0.0779 - mean_squared_logarithmic_error: 0.0779 - val_loss: 0.0712 - val_mean_squared_logarithmic_error: 0.0712\n"
     ]
    }
   ],
   "source": [
    "msle = MeanSquaredLogarithmicError()\n",
    "model.compile(loss=msle, optimizer=Adam(learning_rate=learning_rate), metrics=[msle])\n",
    "history = model.fit(X_train_scaled, Y_train, epochs=10, batch_size=64,validation_split=0.2)"
   ]
  },
  {
   "cell_type": "code",
   "execution_count": 6,
   "id": "6f41c22c",
   "metadata": {},
   "outputs": [
    {
     "name": "stdout",
     "output_type": "stream",
     "text": [
      "24099/24099 [==============================] - 64s 3ms/step\n",
      "[[0.68374497]\n",
      " [0.68374497]\n",
      " [0.68374497]\n",
      " ...\n",
      " [0.68374497]\n",
      " [0.68374497]\n",
      " [0.68374497]]\n"
     ]
    }
   ],
   "source": [
    "y_1 = model.predict(X_test)\n",
    "print(y_1)  \n",
    "y_1 = pd.DataFrame(y_1)\n",
    "y_1.to_csv('RF-EQPD.csv')"
   ]
  },
  {
   "cell_type": "code",
   "execution_count": 7,
   "id": "319e1bef",
   "metadata": {},
   "outputs": [
    {
     "name": "stdout",
     "output_type": "stream",
     "text": [
      "MSE:  26.02709818867845  \n",
      "R2:  -14.20033442064869  \n",
      "MAE:  1.3914766810030201\n"
     ]
    }
   ],
   "source": [
    "print(\"MSE: \",mean_squared_error(Y_test,y_1),\" \\nR2: \",r2_score(Y_test,y_1),\" \\nMAE: \",mean_absolute_error(Y_test,y_1))"
   ]
  }
 ],
 "metadata": {
  "kernelspec": {
   "display_name": "Python 3 (ipykernel)",
   "language": "python",
   "name": "python3"
  },
  "language_info": {
   "codemirror_mode": {
    "name": "ipython",
    "version": 3
   },
   "file_extension": ".py",
   "mimetype": "text/x-python",
   "name": "python",
   "nbconvert_exporter": "python",
   "pygments_lexer": "ipython3",
   "version": "3.9.13"
  }
 },
 "nbformat": 4,
 "nbformat_minor": 5
}
