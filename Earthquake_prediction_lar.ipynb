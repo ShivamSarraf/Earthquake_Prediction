{
 "cells": [
  {
   "cell_type": "code",
   "execution_count": 7,
   "id": "b3464b56",
   "metadata": {},
   "outputs": [],
   "source": [
    "import pandas as pd\n",
    "from sklearn.linear_model import Lasso\n",
    "from sklearn.model_selection import train_test_split\n",
    "from datetime import date as date_n\n",
    "from sklearn.metrics import mean_squared_error,r2_score,mean_absolute_error"
   ]
  },
  {
   "cell_type": "code",
   "execution_count": 8,
   "id": "e9252447",
   "metadata": {},
   "outputs": [],
   "source": [
    "a=pd.read_csv('silver.csv')\n",
    "a['date']=(pd.to_datetime(a['date'], format='%Y-%m-%d')-pd.to_datetime('1973-01-01')).dt.days"
   ]
  },
  {
   "cell_type": "code",
   "execution_count": 9,
   "id": "ae428375",
   "metadata": {},
   "outputs": [],
   "source": [
    "X = a.iloc[:,[0,1,2,6]].values\n",
    "Y = a.iloc[:,[3]].values\n",
    "X_train, X_test, Y_train, Y_test = train_test_split(X, Y, test_size=0.2, random_state=0)"
   ]
  },
  {
   "cell_type": "code",
   "execution_count": 10,
   "id": "77d22e2c",
   "metadata": {},
   "outputs": [
    {
     "data": {
      "text/plain": [
       "Lasso(alpha=1)"
      ]
     },
     "execution_count": 10,
     "metadata": {},
     "output_type": "execute_result"
    }
   ],
   "source": [
    "lasrig = Lasso(alpha=1)\n",
    "lasrig.fit(X_test, Y_test)"
   ]
  },
  {
   "cell_type": "code",
   "execution_count": 11,
   "id": "26a28745",
   "metadata": {},
   "outputs": [
    {
     "name": "stdout",
     "output_type": "stream",
     "text": [
      "[1.82128856 1.58032578 1.10594103 ... 1.20076374 1.48302395 1.50842145]\n"
     ]
    }
   ],
   "source": [
    "y_1 = lasrig.predict(X_test)\n",
    "print(y_1)  \n",
    "y_1 = pd.DataFrame(y_1)\n",
    "y_1.to_csv('LAR-EQPD.csv')"
   ]
  },
  {
   "cell_type": "code",
   "execution_count": 12,
   "id": "25e0dc15",
   "metadata": {},
   "outputs": [
    {
     "name": "stdout",
     "output_type": "stream",
     "text": [
      "MSE:  0.8970554047460124  \n",
      "R2:  0.4761020976237339  \n",
      "MAE:  0.7175112993326348\n"
     ]
    }
   ],
   "source": [
    "print(\"MSE: \",mean_squared_error(Y_test,y_1),\" \\nR2: \",r2_score(Y_test,y_1),\" \\nMAE: \",mean_absolute_error(Y_test,y_1))"
   ]
  }
 ],
 "metadata": {
  "kernelspec": {
   "display_name": "Python 3 (ipykernel)",
   "language": "python",
   "name": "python3"
  },
  "language_info": {
   "codemirror_mode": {
    "name": "ipython",
    "version": 3
   },
   "file_extension": ".py",
   "mimetype": "text/x-python",
   "name": "python",
   "nbconvert_exporter": "python",
   "pygments_lexer": "ipython3",
   "version": "3.9.13"
  }
 },
 "nbformat": 4,
 "nbformat_minor": 5
}
